{
 "cells": [
  {
   "cell_type": "code",
   "execution_count": 3,
   "id": "ee6304a5-b3c9-4330-b679-fc7ae57fa98d",
   "metadata": {},
   "outputs": [
    {
     "name": "stdout",
     "output_type": "stream",
     "text": [
      "hello2\n"
     ]
    }
   ],
   "source": [
    "print(\"hello2\")"
   ]
  },
  {
   "cell_type": "code",
   "execution_count": 7,
   "id": "6fae9319-2432-4b4e-b088-188fa8462577",
   "metadata": {},
   "outputs": [
    {
     "name": "stdout",
     "output_type": "stream",
     "text": [
      "hhh\n"
     ]
    }
   ],
   "source": [
    "print(\"hhh\")"
   ]
  },
  {
   "cell_type": "code",
   "execution_count": null,
   "id": "a9bd1954-45b6-4d77-ab1c-0724e6503d96",
   "metadata": {},
   "outputs": [],
   "source": []
  }
 ],
 "metadata": {
  "kernelspec": {
   "display_name": "Python 3 (ipykernel)",
   "language": "python",
   "name": "python3"
  },
  "language_info": {
   "codemirror_mode": {
    "name": "ipython",
    "version": 3
   },
   "file_extension": ".py",
   "mimetype": "text/x-python",
   "name": "python",
   "nbconvert_exporter": "python",
   "pygments_lexer": "ipython3",
   "version": "3.11.7"
  }
 },
 "nbformat": 4,
 "nbformat_minor": 5
}
